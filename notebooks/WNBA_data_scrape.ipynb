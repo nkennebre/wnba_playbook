{
 "cells": [
  {
   "cell_type": "markdown",
   "id": "690706ca-804f-4bbc-bd98-a09ebd60e1ad",
   "metadata": {},
   "source": [
    "<h1 style=\"text-align:center;\">WNBA DATA SCRAPE</h1> 🏀\n",
    "\n",
    "## I used this notebook to scrape game logs from [www.basketball-reference.com](www.basketball-reference.com). This is the [youtube video](https://youtu.be/pZBcBrOxCVQ?si=Bgi8-ZXV9h7O4Pcu) I followed which details how to scrape NBA data. I had to make a few adjustments. \n",
    "\n",
    "### Note: I wanted ten seasons of data. But the current Las Vegas Aces were the San Antonio Silver Stars for the first two years of the ten year window. I have not, yet, decided how I wanted to proceed. This notebook produces a dataset that has ten seasons for every other team and 8 seasons for the Las Vegas Aces."
   ]
  },
  {
   "cell_type": "code",
   "execution_count": null,
   "id": "0520fb7f-1fd5-4649-9ce6-0d8b67d7b189",
   "metadata": {},
   "outputs": [],
   "source": [
    "# Import libraries\n",
    "import numpy as np\n",
    "import pandas as pd\n",
    "import random\n",
    "import time\n",
    "from unidecode import unidecode"
   ]
  },
  {
   "cell_type": "code",
   "execution_count": null,
   "id": "5b75324a-a9de-4f1b-bab2-add4c40af3dd",
   "metadata": {},
   "outputs": [],
   "source": [
    "# Create list of team codes\n",
    "teams = ['ATL', 'CHI', 'CON', 'IND', 'LAS', 'MIN', 'NYL', 'PHO', 'LVA', 'SEA', 'DAL', 'WAS']\n",
    "len(teams)"
   ]
  },
  {
   "cell_type": "code",
   "execution_count": null,
   "id": "bb6626d5-d586-4a1b-8933-fb43887c7d3b",
   "metadata": {},
   "outputs": [],
   "source": [
    "seasons = ['2015', '2016', '2017', '2018', '2019', '2020', '2021', '2022', '2023', '2024']\n",
    "len(seasons)"
   ]
  },
  {
   "cell_type": "code",
   "execution_count": null,
   "id": "f0b8cf0d-3b85-4b7e-9a4a-cc0faeddd57d",
   "metadata": {},
   "outputs": [],
   "source": [
    "stats = [\n",
    "    'FG', 'FGA', 'FG%', \n",
    "    '3P', '3PA', '3P%', \n",
    "    'FT', 'FTA', 'FT%', \n",
    "    'ORB', 'TRB', 'AST', \n",
    "    'STL', 'BLK', 'TOV', 'PF'\n",
    "]\n",
    "\n",
    "# Create a team stats dictionary\n",
    "tm_stats_dict = {stat: 'Tm_' + str(stat) for stat in stats} \n",
    "\n",
    "# Create the opponents stats dictionary\n",
    "opp_stats_dict = {stat + '.1': 'Opp_' + str(stat) for stat in stats}"
   ]
  },
  {
   "cell_type": "code",
   "execution_count": null,
   "id": "42e88fcc-da4a-4b09-b03e-c7e7a7fc4d0a",
   "metadata": {},
   "outputs": [],
   "source": [
    "# Create an empty dataframe to append\n",
    "wnba_df = pd.DataFrame()\n",
    "\n",
    "# Iterate through the seasons\n",
    "for season in seasons: \n",
    "    # Iterate through the teams\n",
    "    for team in teams:\n",
    "        # Set the URL\n",
    "        url = f'https://www.basketball-reference.com/wnba/teams/{team}/{season}/gamelog'\n",
    "        print(f\"Scraping URL: {url}\")\n",
    "        \n",
    "        try:\n",
    "            # Attempt to scrape the table\n",
    "            team_df = pd.read_html(url, header=1, attrs={'id': 'wnba_tgl_basic'})[0]\n",
    "            \n",
    "            # Drop rows where 'Rk' is null or where 'Rk' is equal to 'Rk'\n",
    "            team_df = team_df[(team_df['Rk'].str != '') & (team_df['Rk'].str.isnumeric())]\n",
    "            \n",
    "            # Drop the blank column\n",
    "            team_df = team_df.drop(columns=['Rk', 'Unnamed: 6', 'Unnamed: 9', 'Unnamed: 26'])\n",
    "\n",
    "            # Rename columns\n",
    "            team_df = team_df.rename(columns={'Unnamed: 3': 'Home', 'Tm': 'Tm_Pts', 'Opp.1': 'Opp_Pts'})\n",
    "            team_df = team_df.rename(columns=tm_stats_dict)\n",
    "            team_df = team_df.rename(columns=opp_stats_dict)\n",
    "\n",
    "            # Replace values in 'Home'\n",
    "            team_df['Home'] = team_df['Home'].apply(lambda x: 0 if x == '@' else 1)\n",
    "\n",
    "            # Add two columns to the front of team_df\n",
    "            team_df.insert(loc=0, column='Season', value=season)\n",
    "            team_df.insert(loc=1, column='Team', value=team.upper())\n",
    "\n",
    "            # Append the current year and team gamelogs to the aggregate dataframe\n",
    "            wnba_df = pd.concat([wnba_df, team_df], ignore_index=True)\n",
    "\n",
    "        except ValueError as e:\n",
    "            # Handle the error if the table is not found\n",
    "            print(f\"Table not found for Team: {team.upper()} in Season: {season}. Skipping...\")\n",
    "\n",
    "        # Pause program to abide by basketball-reference.com rules\n",
    "        time.sleep(random.randint(4, 6))\n",
    "\n",
    "# Display the aggregate dataframe\n",
    "print(wnba_df)"
   ]
  },
  {
   "cell_type": "code",
   "execution_count": null,
   "id": "9164fdfe-0fb0-41a1-899a-845b99a27b52",
   "metadata": {},
   "outputs": [],
   "source": [
    "wnba_df.to_csv('wnba_gamelogs_2015_2024.csv', index = False)"
   ]
  }
 ],
 "metadata": {
  "kernelspec": {
   "display_name": "Python (sports_prediction)",
   "language": "python",
   "name": "sports_prediction"
  },
  "language_info": {
   "codemirror_mode": {
    "name": "ipython",
    "version": 3
   },
   "file_extension": ".py",
   "mimetype": "text/x-python",
   "name": "python",
   "nbconvert_exporter": "python",
   "pygments_lexer": "ipython3",
   "version": "3.12.7"
  }
 },
 "nbformat": 4,
 "nbformat_minor": 5
}
